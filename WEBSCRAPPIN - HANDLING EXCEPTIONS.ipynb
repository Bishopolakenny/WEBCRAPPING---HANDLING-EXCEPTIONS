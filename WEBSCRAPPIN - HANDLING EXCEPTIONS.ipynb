{
 "cells": [
  {
   "cell_type": "code",
   "execution_count": 128,
   "id": "1fa7817d",
   "metadata": {},
   "outputs": [],
   "source": [
    "import selenium\n",
    "import pandas as pd\n",
    "import time\n",
    "from bs4 import BeautifulSoup\n",
    "from selenium import webdriver\n",
    "from selenium.common.exceptions import StaleElementReferenceException, NoSuchElementException, WebDriverException, ElementNotInteractableException\n",
    "import requests\n",
    "from selenium.webdriver.common.by import By"
   ]
  },
  {
   "cell_type": "code",
   "execution_count": 2,
   "id": "03c38875",
   "metadata": {},
   "outputs": [],
   "source": [
    "driver=webdriver.Chrome()"
   ]
  },
  {
   "cell_type": "code",
   "execution_count": 13,
   "id": "015621b3",
   "metadata": {},
   "outputs": [],
   "source": [
    "driver.get('https://www.amazon.in')\n",
    "\n",
    "search_button=driver.find_element(By.XPATH,'/html/body/div[1]/header/div/div[1]/div[2]/div/form/div[2]/div[1]/input')\n",
    "search_button.send_keys(\"guiter\")"
   ]
  },
  {
   "cell_type": "code",
   "execution_count": 14,
   "id": "e5b91f58",
   "metadata": {},
   "outputs": [],
   "source": [
    "search_button=driver.find_element(By.XPATH,\"/html/body/div[1]/header/div/div[1]/div[2]/div/form/div[3]/div/span/input\")\n",
    "search_button.click()"
   ]
  },
  {
   "cell_type": "markdown",
   "id": "e3084daf",
   "metadata": {},
   "source": [
    "QUESTION 2"
   ]
  },
  {
   "cell_type": "code",
   "execution_count": 55,
   "id": "d3a58bfd",
   "metadata": {},
   "outputs": [],
   "source": [
    "Product_url=[]\n",
    "start=0\n",
    "end=3\n",
    "for page in range(start,end):\n",
    "    url=driver.find_elements(By.XPATH,'//h2[@class=\"a-size-mini a-spacing-none a-color-base s-line-clamp-4\"]')\n",
    "    for i in url:\n",
    "        Product_url.append(i.get_attribute('href'))\n",
    "    next_button=driver.find_element(By.XPATH,'/html/body/div[1]/div[1]/div[1]/div[1]/div/span[1]/div[1]/div[59]/div/div/span/a[3]')"
   ]
  },
  {
   "cell_type": "code",
   "execution_count": 57,
   "id": "f4f7ade5",
   "metadata": {},
   "outputs": [
    {
     "data": {
      "text/plain": [
       "153"
      ]
     },
     "execution_count": 57,
     "metadata": {},
     "output_type": "execute_result"
    }
   ],
   "source": [
    "len(Product_url)"
   ]
  },
  {
   "cell_type": "code",
   "execution_count": 58,
   "id": "2a906ce7",
   "metadata": {},
   "outputs": [
    {
     "data": {
      "text/plain": [
       "[None,\n",
       " None,\n",
       " None,\n",
       " None,\n",
       " None,\n",
       " None,\n",
       " None,\n",
       " None,\n",
       " None,\n",
       " None,\n",
       " None,\n",
       " None,\n",
       " None,\n",
       " None,\n",
       " None,\n",
       " None,\n",
       " None,\n",
       " None,\n",
       " None,\n",
       " None,\n",
       " None,\n",
       " None,\n",
       " None,\n",
       " None,\n",
       " None,\n",
       " None,\n",
       " None,\n",
       " None,\n",
       " None,\n",
       " None,\n",
       " None,\n",
       " None,\n",
       " None,\n",
       " None,\n",
       " None,\n",
       " None,\n",
       " None,\n",
       " None,\n",
       " None,\n",
       " None,\n",
       " None,\n",
       " None,\n",
       " None,\n",
       " None,\n",
       " None,\n",
       " None,\n",
       " None,\n",
       " None,\n",
       " None,\n",
       " None,\n",
       " None,\n",
       " None,\n",
       " None,\n",
       " None,\n",
       " None,\n",
       " None,\n",
       " None,\n",
       " None,\n",
       " None,\n",
       " None,\n",
       " None,\n",
       " None,\n",
       " None,\n",
       " None,\n",
       " None,\n",
       " None,\n",
       " None,\n",
       " None,\n",
       " None,\n",
       " None,\n",
       " None,\n",
       " None,\n",
       " None,\n",
       " None,\n",
       " None,\n",
       " None,\n",
       " None,\n",
       " None,\n",
       " None,\n",
       " None,\n",
       " None,\n",
       " None,\n",
       " None,\n",
       " None,\n",
       " None,\n",
       " None,\n",
       " None,\n",
       " None,\n",
       " None,\n",
       " None,\n",
       " None,\n",
       " None,\n",
       " None,\n",
       " None,\n",
       " None,\n",
       " None,\n",
       " None,\n",
       " None,\n",
       " None,\n",
       " None,\n",
       " None,\n",
       " None,\n",
       " None,\n",
       " None,\n",
       " None,\n",
       " None,\n",
       " None,\n",
       " None,\n",
       " None,\n",
       " None,\n",
       " None,\n",
       " None,\n",
       " None,\n",
       " None,\n",
       " None,\n",
       " None,\n",
       " None,\n",
       " None,\n",
       " None,\n",
       " None,\n",
       " None,\n",
       " None,\n",
       " None,\n",
       " None,\n",
       " None,\n",
       " None,\n",
       " None,\n",
       " None,\n",
       " None,\n",
       " None,\n",
       " None,\n",
       " None,\n",
       " None,\n",
       " None,\n",
       " None,\n",
       " None,\n",
       " None,\n",
       " None,\n",
       " None,\n",
       " None,\n",
       " None,\n",
       " None,\n",
       " None,\n",
       " None,\n",
       " None,\n",
       " None,\n",
       " None,\n",
       " None,\n",
       " None,\n",
       " None,\n",
       " None,\n",
       " None,\n",
       " None]"
      ]
     },
     "execution_count": 58,
     "metadata": {},
     "output_type": "execute_result"
    }
   ],
   "source": [
    "Product_url"
   ]
  },
  {
   "cell_type": "code",
   "execution_count": 36,
   "id": "67598b6a",
   "metadata": {},
   "outputs": [],
   "source": [
    "Brand_Name=[]\n",
    "Name_of_the_Product=[]\n",
    "Price=[]\n",
    "Return_Exchange=[]\n",
    "Expected_Delivery=[]\n",
    "Availability=[]"
   ]
  },
  {
   "cell_type": "code",
   "execution_count": 59,
   "id": "fcfaeda7",
   "metadata": {},
   "outputs": [
    {
     "ename": "InvalidArgumentException",
     "evalue": "Message: invalid argument: 'url' must be a string\n  (Session info: chrome=126.0.6478.127)\nStacktrace:\n\tGetHandleVerifier [0x00007FF7718AEEB2+31554]\n\t(No symbol) [0x00007FF771827EE9]\n\t(No symbol) [0x00007FF7716E872A]\n\t(No symbol) [0x00007FF77177D404]\n\t(No symbol) [0x00007FF77175D02A]\n\t(No symbol) [0x00007FF77177C977]\n\t(No symbol) [0x00007FF77175CDD3]\n\t(No symbol) [0x00007FF77172A33B]\n\t(No symbol) [0x00007FF77172AED1]\n\tGetHandleVerifier [0x00007FF771BB8B2D+3217341]\n\tGetHandleVerifier [0x00007FF771C05AF3+3532675]\n\tGetHandleVerifier [0x00007FF771BFB0F0+3489152]\n\tGetHandleVerifier [0x00007FF77195E786+750614]\n\t(No symbol) [0x00007FF77183376F]\n\t(No symbol) [0x00007FF77182EB24]\n\t(No symbol) [0x00007FF77182ECB2]\n\t(No symbol) [0x00007FF77181E17F]\n\tBaseThreadInitThunk [0x00007FFCA0B3257D+29]\n\tRtlUserThreadStart [0x00007FFCA20AAF28+40]\n",
     "output_type": "error",
     "traceback": [
      "\u001b[1;31m---------------------------------------------------------------------------\u001b[0m",
      "\u001b[1;31mInvalidArgumentException\u001b[0m                  Traceback (most recent call last)",
      "Cell \u001b[1;32mIn[59], line 2\u001b[0m\n\u001b[0;32m      1\u001b[0m \u001b[38;5;28;01mfor\u001b[39;00m i \u001b[38;5;129;01min\u001b[39;00m Product_url:\n\u001b[1;32m----> 2\u001b[0m     driver\u001b[38;5;241m.\u001b[39mget(i)\n\u001b[0;32m      3\u001b[0m     time\u001b[38;5;241m.\u001b[39msleep(\u001b[38;5;241m5\u001b[39m)\n\u001b[0;32m      4\u001b[0m     \u001b[38;5;28;01mtry\u001b[39;00m:\n",
      "File \u001b[1;32m~\\anaconda3\\Lib\\site-packages\\selenium\\webdriver\\remote\\webdriver.py:363\u001b[0m, in \u001b[0;36mWebDriver.get\u001b[1;34m(self, url)\u001b[0m\n\u001b[0;32m    361\u001b[0m \u001b[38;5;28;01mdef\u001b[39;00m \u001b[38;5;21mget\u001b[39m(\u001b[38;5;28mself\u001b[39m, url: \u001b[38;5;28mstr\u001b[39m) \u001b[38;5;241m-\u001b[39m\u001b[38;5;241m>\u001b[39m \u001b[38;5;28;01mNone\u001b[39;00m:\n\u001b[0;32m    362\u001b[0m \u001b[38;5;250m    \u001b[39m\u001b[38;5;124;03m\"\"\"Loads a web page in the current browser session.\"\"\"\u001b[39;00m\n\u001b[1;32m--> 363\u001b[0m     \u001b[38;5;28mself\u001b[39m\u001b[38;5;241m.\u001b[39mexecute(Command\u001b[38;5;241m.\u001b[39mGET, {\u001b[38;5;124m\"\u001b[39m\u001b[38;5;124murl\u001b[39m\u001b[38;5;124m\"\u001b[39m: url})\n",
      "File \u001b[1;32m~\\anaconda3\\Lib\\site-packages\\selenium\\webdriver\\remote\\webdriver.py:354\u001b[0m, in \u001b[0;36mWebDriver.execute\u001b[1;34m(self, driver_command, params)\u001b[0m\n\u001b[0;32m    352\u001b[0m response \u001b[38;5;241m=\u001b[39m \u001b[38;5;28mself\u001b[39m\u001b[38;5;241m.\u001b[39mcommand_executor\u001b[38;5;241m.\u001b[39mexecute(driver_command, params)\n\u001b[0;32m    353\u001b[0m \u001b[38;5;28;01mif\u001b[39;00m response:\n\u001b[1;32m--> 354\u001b[0m     \u001b[38;5;28mself\u001b[39m\u001b[38;5;241m.\u001b[39merror_handler\u001b[38;5;241m.\u001b[39mcheck_response(response)\n\u001b[0;32m    355\u001b[0m     response[\u001b[38;5;124m\"\u001b[39m\u001b[38;5;124mvalue\u001b[39m\u001b[38;5;124m\"\u001b[39m] \u001b[38;5;241m=\u001b[39m \u001b[38;5;28mself\u001b[39m\u001b[38;5;241m.\u001b[39m_unwrap_value(response\u001b[38;5;241m.\u001b[39mget(\u001b[38;5;124m\"\u001b[39m\u001b[38;5;124mvalue\u001b[39m\u001b[38;5;124m\"\u001b[39m, \u001b[38;5;28;01mNone\u001b[39;00m))\n\u001b[0;32m    356\u001b[0m     \u001b[38;5;28;01mreturn\u001b[39;00m response\n",
      "File \u001b[1;32m~\\anaconda3\\Lib\\site-packages\\selenium\\webdriver\\remote\\errorhandler.py:229\u001b[0m, in \u001b[0;36mErrorHandler.check_response\u001b[1;34m(self, response)\u001b[0m\n\u001b[0;32m    227\u001b[0m         alert_text \u001b[38;5;241m=\u001b[39m value[\u001b[38;5;124m\"\u001b[39m\u001b[38;5;124malert\u001b[39m\u001b[38;5;124m\"\u001b[39m]\u001b[38;5;241m.\u001b[39mget(\u001b[38;5;124m\"\u001b[39m\u001b[38;5;124mtext\u001b[39m\u001b[38;5;124m\"\u001b[39m)\n\u001b[0;32m    228\u001b[0m     \u001b[38;5;28;01mraise\u001b[39;00m exception_class(message, screen, stacktrace, alert_text)  \u001b[38;5;66;03m# type: ignore[call-arg]  # mypy is not smart enough here\u001b[39;00m\n\u001b[1;32m--> 229\u001b[0m \u001b[38;5;28;01mraise\u001b[39;00m exception_class(message, screen, stacktrace)\n",
      "\u001b[1;31mInvalidArgumentException\u001b[0m: Message: invalid argument: 'url' must be a string\n  (Session info: chrome=126.0.6478.127)\nStacktrace:\n\tGetHandleVerifier [0x00007FF7718AEEB2+31554]\n\t(No symbol) [0x00007FF771827EE9]\n\t(No symbol) [0x00007FF7716E872A]\n\t(No symbol) [0x00007FF77177D404]\n\t(No symbol) [0x00007FF77175D02A]\n\t(No symbol) [0x00007FF77177C977]\n\t(No symbol) [0x00007FF77175CDD3]\n\t(No symbol) [0x00007FF77172A33B]\n\t(No symbol) [0x00007FF77172AED1]\n\tGetHandleVerifier [0x00007FF771BB8B2D+3217341]\n\tGetHandleVerifier [0x00007FF771C05AF3+3532675]\n\tGetHandleVerifier [0x00007FF771BFB0F0+3489152]\n\tGetHandleVerifier [0x00007FF77195E786+750614]\n\t(No symbol) [0x00007FF77183376F]\n\t(No symbol) [0x00007FF77182EB24]\n\t(No symbol) [0x00007FF77182ECB2]\n\t(No symbol) [0x00007FF77181E17F]\n\tBaseThreadInitThunk [0x00007FFCA0B3257D+29]\n\tRtlUserThreadStart [0x00007FFCA20AAF28+40]\n"
     ]
    }
   ],
   "source": [
    "for i in Product_url:\n",
    "    driver.get(i)\n",
    "    time.sleep(5)\n",
    "    try:\n",
    "        Brand_tags=driver.find_elements(By.XPATH,'//span[@class=\"a-size-base po-break-word\"]')\n",
    "        Brand_Name.append(Brand_tags)\n",
    "    except NoSuchElementException:\n",
    "        Brand_Name.append(\"-\")\n",
    "\n",
    "        \n",
    "for i in Product_url:\n",
    "    driver.get(i)\n",
    "    time.sleep(5)\n",
    "    try:\n",
    "        Product_tags=driver.find_elements(By.XPATH,'//span[@class=\"a-size-base-plus a-color-base a-text-normal\"]')\n",
    "        Name_of_the_Product.append(Product_tag)\n",
    "    except NoSuchElementException:\n",
    "        Name_of_the_Product.append(\"-\")  \n",
    "\n",
    "\n",
    "for i in Product_url:\n",
    "    driver.get(i)\n",
    "    time.sleep(5)\n",
    "    try:\n",
    "        price=driver.find_elements(By.XPATH,'//span[@class=\"a-price-whole\"]')\n",
    "        Price.append(price.replace('₹','')) \n",
    "    except NoSuchElementException:\n",
    "        Price.append(\"-\")  \n",
    "    \n",
    "\n",
    "for i in Product_url:\n",
    "    driver.get(i)\n",
    "    time.sleep(5)\n",
    "    try:   \n",
    "        return_tag=driver.find_elements(By.XPATH,'//div[@class=\"a-section a-spacing-none icon-content\"]/span')\n",
    "        Return_Exchange.append(return_tag)\n",
    "    except NoSuchElementException:\n",
    "        Return_Exchange.append(\"-\")    \n",
    "\n",
    "\n",
    "for i in Product_url:\n",
    "    driver.get(i)\n",
    "    time.sleep(5)\n",
    "    try:          \n",
    "        delivery_tag=driver.find_elements(By.XPATH,'//span[@class=\"a-color-base a-text-bold\"]')\n",
    "        Expected_Delivery.append(delivery_tag)\n",
    "    except NoSuchElementException:\n",
    "        Expected_Delivery.append(\"-\") \n",
    "\n",
    "for i in Product_url:\n",
    "    driver.get(i)\n",
    "    time.sleep(5)\n",
    "    try:  \n",
    "        availabilty_tag=driver.find_elements(By.XPATH,'//span[@class=\"a-size-base a-color-price\"]')\n",
    "        Availability.append(availability_tag)\n",
    "    \n",
    "    except NoSuchElementException:\n",
    "        Availability.append(\"-\") \n",
    "\n"
   ]
  },
  {
   "cell_type": "markdown",
   "id": "d7a1c04f",
   "metadata": {},
   "source": [
    "QUESTION 3"
   ]
  },
  {
   "cell_type": "code",
   "execution_count": 70,
   "id": "5a0a76b6",
   "metadata": {},
   "outputs": [],
   "source": [
    "driver=webdriver.Chrome()"
   ]
  },
  {
   "cell_type": "code",
   "execution_count": 71,
   "id": "4bf13f3c",
   "metadata": {},
   "outputs": [],
   "source": [
    "driver.get('https://images.google.com/')"
   ]
  },
  {
   "cell_type": "code",
   "execution_count": 73,
   "id": "4620c035",
   "metadata": {},
   "outputs": [],
   "source": [
    "search_button=driver.find_element(By.XPATH,'/html/body/div[1]/div[3]/form/div[1]/div[1]/div[1]/div/div[2]/textarea')\n",
    "search_button.send_keys(\"fruits\")"
   ]
  },
  {
   "cell_type": "code",
   "execution_count": 74,
   "id": "11ef9c5c",
   "metadata": {},
   "outputs": [],
   "source": [
    "search_button=driver.find_element(By.XPATH,'/html/body/div[1]/div[3]/form/div[1]/div[1]/div[1]/div/div[2]/textarea')\n",
    "search_button.click()"
   ]
  },
  {
   "cell_type": "code",
   "execution_count": 75,
   "id": "cd46c49f",
   "metadata": {},
   "outputs": [],
   "source": [
    "fruits=[]\n",
    "car=[]\n",
    "Machine_learning=[]\n",
    "cake=[]\n",
    "guiter=[]"
   ]
  },
  {
   "cell_type": "code",
   "execution_count": 78,
   "id": "df6c6f21",
   "metadata": {},
   "outputs": [],
   "source": [
    "for i in fruits:\n",
    "    driver.get(i)\n",
    "    time.sleep(5)\n",
    "    try:\n",
    "        fruit_tag = driver.find_element(By.XPATH,'//g-img[@class=\"tb08Pd\"]')\n",
    "        fruit_tag[0:10]\n",
    "        fruits.append(fruit_tag['data-src'])\n",
    "    except NoSuchElementException:\n",
    "        fruits.append(\"Not present\")"
   ]
  },
  {
   "cell_type": "code",
   "execution_count": 81,
   "id": "6956c766",
   "metadata": {},
   "outputs": [
    {
     "data": {
      "text/plain": [
       "0"
      ]
     },
     "execution_count": 81,
     "metadata": {},
     "output_type": "execute_result"
    }
   ],
   "source": [
    "len(fruits)"
   ]
  },
  {
   "cell_type": "markdown",
   "id": "fb863f06",
   "metadata": {},
   "source": [
    "QUETION 4"
   ]
  },
  {
   "cell_type": "code",
   "execution_count": 82,
   "id": "1c706c7d",
   "metadata": {},
   "outputs": [],
   "source": [
    "driver = webdriver.Chrome()"
   ]
  },
  {
   "cell_type": "code",
   "execution_count": 83,
   "id": "6e2a8e23",
   "metadata": {},
   "outputs": [],
   "source": [
    "driver.get(\"https://www.flipkart.com/\")"
   ]
  },
  {
   "cell_type": "code",
   "execution_count": 86,
   "id": "2f4ac809",
   "metadata": {},
   "outputs": [
    {
     "name": "stdout",
     "output_type": "stream",
     "text": [
      "-\n"
     ]
    }
   ],
   "source": [
    "try:\n",
    "    search=driver.find_element(By.XPATH,'//div[@class=\"_2SmNnR\"]/input')\n",
    "    search_button.send_keys(\"smartphones\")\n",
    "    search.click()\n",
    "except StaleElementReferenceException as e:\n",
    "    print('-')"
   ]
  },
  {
   "cell_type": "markdown",
   "id": "53d768e0",
   "metadata": {},
   "source": [
    "QUESTION 5"
   ]
  },
  {
   "cell_type": "code",
   "execution_count": 89,
   "id": "ad29f15f",
   "metadata": {},
   "outputs": [],
   "source": [
    "driver = webdriver.Chrome()"
   ]
  },
  {
   "cell_type": "code",
   "execution_count": 102,
   "id": "53becfcb",
   "metadata": {},
   "outputs": [],
   "source": [
    "driver.get(\"https://www.google.com/maps\")"
   ]
  },
  {
   "cell_type": "code",
   "execution_count": 92,
   "id": "e0f860b0",
   "metadata": {},
   "outputs": [
    {
     "name": "stdout",
     "output_type": "stream",
     "text": [
      "-\n"
     ]
    }
   ],
   "source": [
    "try:\n",
    "    search=driver.find_element(By.XPATH,'//div[@class=\"mNcDk bpLs1b\"]')\n",
    "    search_button.send_keys(\"latitude\")\n",
    "    search.click()\n",
    "except StaleElementReferenceException as e:\n",
    "    print('-')"
   ]
  },
  {
   "cell_type": "markdown",
   "id": "d576657e",
   "metadata": {},
   "source": [
    "QUESTION 6"
   ]
  },
  {
   "cell_type": "code",
   "execution_count": 103,
   "id": "0387cdff",
   "metadata": {},
   "outputs": [],
   "source": [
    "driver = webdriver.Chrome()"
   ]
  },
  {
   "cell_type": "code",
   "execution_count": 104,
   "id": "640ec1b0",
   "metadata": {},
   "outputs": [],
   "source": [
    "driver.get(\"https://www.digit.in/?s=gaming+laptop&post_type=product\")"
   ]
  },
  {
   "cell_type": "code",
   "execution_count": 111,
   "id": "cb8e71f1",
   "metadata": {},
   "outputs": [
    {
     "name": "stdout",
     "output_type": "stream",
     "text": [
      "-\n"
     ]
    }
   ],
   "source": [
    "try:\n",
    "    search=driver.find_element(By.XPATH,'//div[@class=\"rh-flex-center-align rh-flex-right-align\"]/button')\n",
    "    search_button.send_keys(\"best gaming laptop\")\n",
    "    search.click()\n",
    "except WebDriverException as e:\n",
    "    print('-')"
   ]
  },
  {
   "cell_type": "markdown",
   "id": "80886b83",
   "metadata": {},
   "source": [
    "Question 7"
   ]
  },
  {
   "cell_type": "code",
   "execution_count": 112,
   "id": "9b4b2304",
   "metadata": {},
   "outputs": [],
   "source": [
    "driver = webdriver.Chrome()"
   ]
  },
  {
   "cell_type": "code",
   "execution_count": 113,
   "id": "3e399e6e",
   "metadata": {},
   "outputs": [],
   "source": [
    "driver.get(\"https://www.forbes.com/\")"
   ]
  },
  {
   "cell_type": "code",
   "execution_count": 116,
   "id": "6ea66c4a",
   "metadata": {},
   "outputs": [
    {
     "name": "stdout",
     "output_type": "stream",
     "text": [
      "-\n"
     ]
    }
   ],
   "source": [
    "try:\n",
    "    search=driver.find_element(By.XPATH,'//div[@class=\"SearchField_field__UmstK\"]')\n",
    "    search_button.send_keys(\"billionaires\")\n",
    "    search.click()\n",
    "except WebDriverException as e:\n",
    "    print('-')   \n",
    "    "
   ]
  },
  {
   "cell_type": "markdown",
   "id": "d309b5f5",
   "metadata": {},
   "source": [
    "Question 8"
   ]
  },
  {
   "cell_type": "code",
   "execution_count": 117,
   "id": "a7c5cd95",
   "metadata": {},
   "outputs": [],
   "source": [
    "driver = webdriver.Chrome()"
   ]
  },
  {
   "cell_type": "code",
   "execution_count": 118,
   "id": "bb383abe",
   "metadata": {},
   "outputs": [],
   "source": [
    "driver.get(\"https://www.youtube.com/\")"
   ]
  },
  {
   "cell_type": "code",
   "execution_count": 122,
   "id": "9be48085",
   "metadata": {},
   "outputs": [
    {
     "name": "stdout",
     "output_type": "stream",
     "text": [
      "-\n"
     ]
    }
   ],
   "source": [
    "try:\n",
    "    search=driver.find_element(By.XPATH,'//div[@class=\"ytd-searchbox-spt\"]')\n",
    "    search_button.send_keys(\"comments\")\n",
    "    search.click()\n",
    "except WebDriverException as e:\n",
    "    print('-')   "
   ]
  },
  {
   "cell_type": "markdown",
   "id": "19206a18",
   "metadata": {},
   "source": [
    "question 9"
   ]
  },
  {
   "cell_type": "code",
   "execution_count": 123,
   "id": "fab68c69",
   "metadata": {},
   "outputs": [],
   "source": [
    "driver = webdriver.Chrome()"
   ]
  },
  {
   "cell_type": "code",
   "execution_count": 124,
   "id": "a4231150",
   "metadata": {},
   "outputs": [],
   "source": [
    "driver.get(\"https://www.hostelworld.com/\")"
   ]
  },
  {
   "cell_type": "code",
   "execution_count": 129,
   "id": "bc4a260c",
   "metadata": {},
   "outputs": [
    {
     "name": "stdout",
     "output_type": "stream",
     "text": [
      "-\n"
     ]
    }
   ],
   "source": [
    "try:\n",
    "    location=driver.find_element(By.XPATH,'//div[@class=\"input-wrapper\"]')\n",
    "    location.send_keys(\"London\")\n",
    "    search.click()\n",
    "except ElementNotInteractableException as e:\n",
    "    print('-')   "
   ]
  },
  {
   "cell_type": "code",
   "execution_count": null,
   "id": "b153e474",
   "metadata": {},
   "outputs": [],
   "source": []
  }
 ],
 "metadata": {
  "kernelspec": {
   "display_name": "Python 3 (ipykernel)",
   "language": "python",
   "name": "python3"
  },
  "language_info": {
   "codemirror_mode": {
    "name": "ipython",
    "version": 3
   },
   "file_extension": ".py",
   "mimetype": "text/x-python",
   "name": "python",
   "nbconvert_exporter": "python",
   "pygments_lexer": "ipython3",
   "version": "3.11.5"
  }
 },
 "nbformat": 4,
 "nbformat_minor": 5
}
